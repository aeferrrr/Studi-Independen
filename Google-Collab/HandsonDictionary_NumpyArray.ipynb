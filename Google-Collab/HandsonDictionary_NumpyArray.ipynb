{
  "nbformat": 4,
  "nbformat_minor": 0,
  "metadata": {
    "colab": {
      "provenance": []
    },
    "kernelspec": {
      "name": "python3",
      "display_name": "Python 3"
    },
    "language_info": {
      "name": "python"
    }
  },
  "cells": [
    {
      "cell_type": "markdown",
      "source": [
        "# Dictionary"
      ],
      "metadata": {
        "id": "G2ootCEPxWXb"
      }
    },
    {
      "cell_type": "code",
      "execution_count": 4,
      "metadata": {
        "colab": {
          "base_uri": "https://localhost:8080/"
        },
        "id": "ceIIeFBGxTOB",
        "outputId": "4ceedddd-7d4b-49b3-8344-fdb0a374acde"
      },
      "outputs": [
        {
          "output_type": "stream",
          "name": "stdout",
          "text": [
            "{'India': 'ind', 'Indonesia': 'ina', 'United States': 'usa'}\n"
          ]
        }
      ],
      "source": [
        "kode_negara ={'India' : 'ind', 'Indonesia' : 'ina', 'United States' : 'usa'}\n",
        "print(kode_negara)"
      ]
    },
    {
      "cell_type": "code",
      "source": [
        "print (type(kode_negara))"
      ],
      "metadata": {
        "colab": {
          "base_uri": "https://localhost:8080/"
        },
        "id": "ZRyfjAFFyPrT",
        "outputId": "232dd430-a79f-4be7-c4d5-e458dc7e527b"
      },
      "execution_count": 5,
      "outputs": [
        {
          "output_type": "stream",
          "name": "stdout",
          "text": [
            "<class 'dict'>\n"
          ]
        }
      ]
    },
    {
      "cell_type": "code",
      "source": [
        "print(kode_negara['India'])"
      ],
      "metadata": {
        "colab": {
          "base_uri": "https://localhost:8080/"
        },
        "id": "xV-OqmzOyZKB",
        "outputId": "747321e6-b3c9-41f9-bc8e-937d88408e61"
      },
      "execution_count": 6,
      "outputs": [
        {
          "output_type": "stream",
          "name": "stdout",
          "text": [
            "ind\n"
          ]
        }
      ]
    },
    {
      "cell_type": "code",
      "source": [
        "kode_negara['China'] = 'chn'\n",
        "print(kode_negara)"
      ],
      "metadata": {
        "colab": {
          "base_uri": "https://localhost:8080/"
        },
        "id": "6zdovgHlyyvr",
        "outputId": "db6e7db6-57a6-49de-d7e3-d81b34f388b8"
      },
      "execution_count": 8,
      "outputs": [
        {
          "output_type": "stream",
          "name": "stdout",
          "text": [
            "{'India': 'ind', 'Indonesia': 'ina', 'United States': 'usa', 'China': 'chn'}\n"
          ]
        }
      ]
    },
    {
      "cell_type": "code",
      "source": [
        "kode_negara['Indonesia'] = 'idn'\n",
        "print(kode_negara)"
      ],
      "metadata": {
        "colab": {
          "base_uri": "https://localhost:8080/"
        },
        "id": "q5bY5GNyzD2l",
        "outputId": "4e8bce7b-059e-476b-ebb4-9b8534d11f5b"
      },
      "execution_count": 9,
      "outputs": [
        {
          "output_type": "stream",
          "name": "stdout",
          "text": [
            "{'India': 'ind', 'Indonesia': 'idn', 'United States': 'usa', 'China': 'chn'}\n"
          ]
        }
      ]
    },
    {
      "cell_type": "code",
      "source": [
        "del kode_negara['United States']\n",
        "print(kode_negara)"
      ],
      "metadata": {
        "colab": {
          "base_uri": "https://localhost:8080/"
        },
        "id": "jVu6ZAjFzWks",
        "outputId": "535fd8c1-8435-4926-f7a5-e1894b53f93f"
      },
      "execution_count": 10,
      "outputs": [
        {
          "output_type": "stream",
          "name": "stdout",
          "text": [
            "{'India': 'ind', 'Indonesia': 'idn', 'China': 'chn'}\n"
          ]
        }
      ]
    },
    {
      "cell_type": "code",
      "source": [
        "print(len(kode_negara))"
      ],
      "metadata": {
        "colab": {
          "base_uri": "https://localhost:8080/"
        },
        "id": "D5tta9StzeHf",
        "outputId": "1e22449f-d1b0-47f1-8711-acb2a328d586"
      },
      "execution_count": 11,
      "outputs": [
        {
          "output_type": "stream",
          "name": "stdout",
          "text": [
            "3\n"
          ]
        }
      ]
    },
    {
      "cell_type": "code",
      "source": [
        "print('India' in kode_negara)"
      ],
      "metadata": {
        "colab": {
          "base_uri": "https://localhost:8080/"
        },
        "id": "i1QrSHz0zmhf",
        "outputId": "f6ba1dd6-3cac-4a2d-9630-6649f7720244"
      },
      "execution_count": 12,
      "outputs": [
        {
          "output_type": "stream",
          "name": "stdout",
          "text": [
            "True\n"
          ]
        }
      ]
    },
    {
      "cell_type": "code",
      "source": [
        "print ('Germany' in kode_negara)"
      ],
      "metadata": {
        "colab": {
          "base_uri": "https://localhost:8080/"
        },
        "id": "Bh98dAB1zrJn",
        "outputId": "c5c52283-f130-4062-85ac-7c1df2d631ed"
      },
      "execution_count": 14,
      "outputs": [
        {
          "output_type": "stream",
          "name": "stdout",
          "text": [
            "False\n"
          ]
        }
      ]
    },
    {
      "cell_type": "code",
      "source": [
        "kunci = kode_negara.keys()\n",
        "print(kunci)"
      ],
      "metadata": {
        "colab": {
          "base_uri": "https://localhost:8080/"
        },
        "id": "EYJR5TTuzxTy",
        "outputId": "e4107a59-86ee-46f9-918e-33a144d551d0"
      },
      "execution_count": 15,
      "outputs": [
        {
          "output_type": "stream",
          "name": "stdout",
          "text": [
            "dict_keys(['India', 'Indonesia', 'China'])\n"
          ]
        }
      ]
    },
    {
      "cell_type": "code",
      "source": [
        "nilai = kode_negara.values()\n",
        "print(nilai)"
      ],
      "metadata": {
        "colab": {
          "base_uri": "https://localhost:8080/"
        },
        "id": "CIYEOSf2z5vV",
        "outputId": "60f48690-6c70-4196-b59b-4131f981c1a2"
      },
      "execution_count": 16,
      "outputs": [
        {
          "output_type": "stream",
          "name": "stdout",
          "text": [
            "dict_values(['ind', 'idn', 'chn'])\n"
          ]
        }
      ]
    },
    {
      "cell_type": "code",
      "source": [
        "pasangan = kode_negara.items()\n",
        "print(pasangan)"
      ],
      "metadata": {
        "colab": {
          "base_uri": "https://localhost:8080/"
        },
        "id": "u0Ux0w4D0AN3",
        "outputId": "4f1c2720-b5b4-45d4-a3a0-fe084c98c490"
      },
      "execution_count": 18,
      "outputs": [
        {
          "output_type": "stream",
          "name": "stdout",
          "text": [
            "dict_items([('India', 'ind'), ('Indonesia', 'idn'), ('China', 'chn')])\n"
          ]
        }
      ]
    },
    {
      "cell_type": "code",
      "source": [
        "student = {\n",
        "    'nama' : \"Arief Fadhillah R\",\n",
        "    'usia' : 20,\n",
        "    'nilai': {\n",
        "        'matematika' : 85,\n",
        "        'fisika'     : 90,\n",
        "        'kimia'      : 80\n",
        "    }\n",
        "}\n",
        "print(student)"
      ],
      "metadata": {
        "colab": {
          "base_uri": "https://localhost:8080/"
        },
        "id": "4ZTMnD0T0JH4",
        "outputId": "46d37e11-5b77-4d20-f1cf-1b343637e2cc"
      },
      "execution_count": 20,
      "outputs": [
        {
          "output_type": "stream",
          "name": "stdout",
          "text": [
            "{'nama': 'Arief Fadhillah R', 'usia': 20, 'nilai': {'matematika': 85, 'fisika': 90, 'kimia': 80}}\n"
          ]
        }
      ]
    },
    {
      "cell_type": "code",
      "source": [
        "print(\"Nilai Fisika :\", student['nilai']['fisika'])"
      ],
      "metadata": {
        "colab": {
          "base_uri": "https://localhost:8080/"
        },
        "id": "xDDJgTBj0vVx",
        "outputId": "0aae44ca-b59c-406e-a9b9-b40f06a00c45"
      },
      "execution_count": 21,
      "outputs": [
        {
          "output_type": "stream",
          "name": "stdout",
          "text": [
            "Nilai Fisika : 90\n"
          ]
        }
      ]
    },
    {
      "cell_type": "code",
      "source": [
        "data1 = {'nama' : 'Fadhil', 'usia' : '20', 'pekerjaan' : 'progammer'}\n",
        "data2 = data1.copy()\n",
        "print(data2)"
      ],
      "metadata": {
        "colab": {
          "base_uri": "https://localhost:8080/"
        },
        "id": "rpCOOqf409a2",
        "outputId": "7c35641b-ea2c-46aa-a200-c4e34655cdf3"
      },
      "execution_count": 22,
      "outputs": [
        {
          "output_type": "stream",
          "name": "stdout",
          "text": [
            "{'nama': 'Fadhil', 'usia': '20', 'pekerjaan': 'progammer'}\n"
          ]
        }
      ]
    },
    {
      "cell_type": "code",
      "source": [
        "usia = data1.get('usia')\n",
        "print(usia)"
      ],
      "metadata": {
        "colab": {
          "base_uri": "https://localhost:8080/"
        },
        "id": "8AcQcrPe1bL9",
        "outputId": "cb241945-c2ec-4c90-f328-07a83393b6fb"
      },
      "execution_count": 23,
      "outputs": [
        {
          "output_type": "stream",
          "name": "stdout",
          "text": [
            "20\n"
          ]
        }
      ]
    },
    {
      "cell_type": "code",
      "source": [
        "data1.update({'gaji' : '5000000', 'alamat' : 'bekasi'})\n",
        "print(data1)"
      ],
      "metadata": {
        "colab": {
          "base_uri": "https://localhost:8080/"
        },
        "id": "e4LXizMT1kGI",
        "outputId": "7d1a4f8b-a775-49ad-cbf3-619037541d42"
      },
      "execution_count": 24,
      "outputs": [
        {
          "output_type": "stream",
          "name": "stdout",
          "text": [
            "{'nama': 'Fadhil', 'usia': '20', 'pekerjaan': 'progammer', 'gaji': '5000000', 'alamat': 'bekasi'}\n"
          ]
        }
      ]
    },
    {
      "cell_type": "code",
      "source": [
        "pekerjaan = data1.pop('pekerjaan')\n",
        "print(data1)"
      ],
      "metadata": {
        "colab": {
          "base_uri": "https://localhost:8080/"
        },
        "id": "v0rcmsCP10jj",
        "outputId": "64d340af-5230-4e91-9992-9134fe2a72a5"
      },
      "execution_count": 28,
      "outputs": [
        {
          "output_type": "stream",
          "name": "stdout",
          "text": [
            "{'nama': 'Fadhil', 'usia': '20', 'gaji': '5000000', 'alamat': 'bekasi'}\n"
          ]
        }
      ]
    },
    {
      "cell_type": "code",
      "source": [
        "item = data1.popitem()\n",
        "print(data1)"
      ],
      "metadata": {
        "colab": {
          "base_uri": "https://localhost:8080/"
        },
        "id": "D02-iU8v2FLB",
        "outputId": "e51d2a79-5ea1-46ba-b0f2-b7b4ed280a1c"
      },
      "execution_count": 30,
      "outputs": [
        {
          "output_type": "stream",
          "name": "stdout",
          "text": [
            "{'nama': 'Fadhil', 'usia': '20', 'gaji': '5000000'}\n"
          ]
        }
      ]
    },
    {
      "cell_type": "code",
      "source": [
        "data1.clear()\n",
        "print(data1)"
      ],
      "metadata": {
        "colab": {
          "base_uri": "https://localhost:8080/"
        },
        "id": "pK0sKl_q2l9r",
        "outputId": "98f3109f-0e8e-4116-a141-804e8266e4fe"
      },
      "execution_count": 31,
      "outputs": [
        {
          "output_type": "stream",
          "name": "stdout",
          "text": [
            "{}\n"
          ]
        }
      ]
    },
    {
      "cell_type": "markdown",
      "source": [
        "# Numpy Array"
      ],
      "metadata": {
        "id": "IGvxhwvI97Rb"
      }
    },
    {
      "cell_type": "code",
      "source": [
        "import numpy as np"
      ],
      "metadata": {
        "id": "C1rx-0vN9_pq"
      },
      "execution_count": 32,
      "outputs": []
    },
    {
      "cell_type": "code",
      "source": [
        "angka = [12, 3, 5, 6, 0, -1, 2]\n",
        "number = np.array(angka)\n",
        "print(number)\n",
        "print(type(number))"
      ],
      "metadata": {
        "colab": {
          "base_uri": "https://localhost:8080/"
        },
        "id": "rlEYqS0G-NzS",
        "outputId": "4db928d4-e78e-4f33-c8ba-4f97f4f8245f"
      },
      "execution_count": 33,
      "outputs": [
        {
          "output_type": "stream",
          "name": "stdout",
          "text": [
            "[12  3  5  6  0 -1  2]\n",
            "<class 'numpy.ndarray'>\n"
          ]
        }
      ]
    },
    {
      "cell_type": "code",
      "source": [
        "enol = np.zeros((3,3))\n",
        "print(enol)"
      ],
      "metadata": {
        "colab": {
          "base_uri": "https://localhost:8080/"
        },
        "id": "wSzS-Ntw-jRy",
        "outputId": "94703dde-cc5a-4bfb-f07b-362ba327e137"
      },
      "execution_count": 35,
      "outputs": [
        {
          "output_type": "stream",
          "name": "stdout",
          "text": [
            "[[0. 0. 0.]\n",
            " [0. 0. 0.]\n",
            " [0. 0. 0.]]\n"
          ]
        }
      ]
    },
    {
      "cell_type": "code",
      "source": [
        "satu = np.ones((2,3))\n",
        "print(satu)"
      ],
      "metadata": {
        "colab": {
          "base_uri": "https://localhost:8080/"
        },
        "id": "O4xRCwJ_-0Dl",
        "outputId": "f265c6b9-2194-4444-8c9a-746845621dba"
      },
      "execution_count": 37,
      "outputs": [
        {
          "output_type": "stream",
          "name": "stdout",
          "text": [
            "[[1. 1. 1.]\n",
            " [1. 1. 1.]]\n"
          ]
        }
      ]
    },
    {
      "cell_type": "code",
      "source": [
        "deret = np.arange(1,20,3)\n",
        "print(deret)"
      ],
      "metadata": {
        "colab": {
          "base_uri": "https://localhost:8080/"
        },
        "id": "Q0ubxLLq-6in",
        "outputId": "dedad27a-b3e2-4e71-8aae-2582fcce6619"
      },
      "execution_count": 38,
      "outputs": [
        {
          "output_type": "stream",
          "name": "stdout",
          "text": [
            "[ 1  4  7 10 13 16 19]\n"
          ]
        }
      ]
    },
    {
      "cell_type": "code",
      "source": [
        "lang = np.array(['id','en','jp','cn','ru','kr','th'])\n"
      ],
      "metadata": {
        "id": "xmmzwXUg_HBm"
      },
      "execution_count": 49,
      "outputs": []
    },
    {
      "cell_type": "code",
      "source": [
        "print(lang[0])"
      ],
      "metadata": {
        "colab": {
          "base_uri": "https://localhost:8080/"
        },
        "id": "hlegVqes_YmE",
        "outputId": "be07f05b-a8e0-4470-cf48-ac4307aa375d"
      },
      "execution_count": 41,
      "outputs": [
        {
          "output_type": "stream",
          "name": "stdout",
          "text": [
            "id\n"
          ]
        }
      ]
    },
    {
      "cell_type": "code",
      "source": [
        "print(lang[-1])"
      ],
      "metadata": {
        "colab": {
          "base_uri": "https://localhost:8080/"
        },
        "id": "iAje0GPf_b3H",
        "outputId": "0e18740a-7eb9-46bf-ad52-4ac9f304a267"
      },
      "execution_count": 42,
      "outputs": [
        {
          "output_type": "stream",
          "name": "stdout",
          "text": [
            "th\n"
          ]
        }
      ]
    },
    {
      "cell_type": "code",
      "source": [
        "print(lang[1:4])"
      ],
      "metadata": {
        "colab": {
          "base_uri": "https://localhost:8080/"
        },
        "id": "UwSNRyUP_g73",
        "outputId": "20045637-7f4e-4fea-cb7d-bea8360793eb"
      },
      "execution_count": 47,
      "outputs": [
        {
          "output_type": "stream",
          "name": "stdout",
          "text": [
            "['en' 'jp' 'cn']\n"
          ]
        }
      ]
    },
    {
      "cell_type": "code",
      "source": [
        "print(lang[3:])"
      ],
      "metadata": {
        "colab": {
          "base_uri": "https://localhost:8080/"
        },
        "id": "0zL9qu4h_onG",
        "outputId": "4b088e81-855a-463d-f804-270b537cf6e7"
      },
      "execution_count": 50,
      "outputs": [
        {
          "output_type": "stream",
          "name": "stdout",
          "text": [
            "['cn' 'ru' 'kr' 'th']\n"
          ]
        }
      ]
    },
    {
      "cell_type": "code",
      "source": [
        "print(lang[:5])"
      ],
      "metadata": {
        "colab": {
          "base_uri": "https://localhost:8080/"
        },
        "id": "xXWBK1vq_6bs",
        "outputId": "fea29233-a30c-479b-83ff-796fe57df0d4"
      },
      "execution_count": 51,
      "outputs": [
        {
          "output_type": "stream",
          "name": "stdout",
          "text": [
            "['id' 'en' 'jp' 'cn' 'ru']\n"
          ]
        }
      ]
    },
    {
      "cell_type": "code",
      "source": [
        "A = np.array ([[81,24,36],\n",
        "               [43,67,12],\n",
        "               [75,91,58]\n",
        "               ])"
      ],
      "metadata": {
        "id": "LpNVb7SiBNIV"
      },
      "execution_count": 53,
      "outputs": []
    },
    {
      "cell_type": "code",
      "source": [
        "print(A)"
      ],
      "metadata": {
        "colab": {
          "base_uri": "https://localhost:8080/"
        },
        "id": "__5va1cPBkO3",
        "outputId": "706dc0d8-3226-4b6e-c226-71dee4f2fa11"
      },
      "execution_count": 54,
      "outputs": [
        {
          "output_type": "stream",
          "name": "stdout",
          "text": [
            "[[81 24 36]\n",
            " [43 67 12]\n",
            " [75 91 58]]\n"
          ]
        }
      ]
    },
    {
      "cell_type": "code",
      "source": [
        "print(A[0,2])"
      ],
      "metadata": {
        "colab": {
          "base_uri": "https://localhost:8080/"
        },
        "id": "1pOkxEwXBnRV",
        "outputId": "a00003d8-664c-4d41-ca0f-7db7b9c333e9"
      },
      "execution_count": 57,
      "outputs": [
        {
          "output_type": "stream",
          "name": "stdout",
          "text": [
            "36\n"
          ]
        }
      ]
    },
    {
      "cell_type": "code",
      "source": [
        "print(A[1,2])"
      ],
      "metadata": {
        "colab": {
          "base_uri": "https://localhost:8080/"
        },
        "id": "7UDszVrzB78Y",
        "outputId": "2de517f2-2b0a-46ec-c01a-71e853d4c592"
      },
      "execution_count": 59,
      "outputs": [
        {
          "output_type": "stream",
          "name": "stdout",
          "text": [
            "12\n"
          ]
        }
      ]
    },
    {
      "cell_type": "code",
      "source": [
        "X = np.array([[1,2,3], [4,5,6], [7,8,9]])\n",
        "Y = np.array([[2,2,2], [2,2,2], [2,2,2]])\n",
        "\n",
        "skalar = 3"
      ],
      "metadata": {
        "id": "g67xHOYGCGc2"
      },
      "execution_count": 60,
      "outputs": []
    },
    {
      "cell_type": "code",
      "source": [
        "z = X + Y"
      ],
      "metadata": {
        "id": "zjGlGlZwCZ0N"
      },
      "execution_count": 62,
      "outputs": []
    },
    {
      "cell_type": "code",
      "source": [
        "print(z)"
      ],
      "metadata": {
        "colab": {
          "base_uri": "https://localhost:8080/"
        },
        "id": "3E0V5nN6CdST",
        "outputId": "3ef461c0-59d2-420b-ff0c-8981f4191d1a"
      },
      "execution_count": 63,
      "outputs": [
        {
          "output_type": "stream",
          "name": "stdout",
          "text": [
            "[[ 3  4  5]\n",
            " [ 6  7  8]\n",
            " [ 9 10 11]]\n"
          ]
        }
      ]
    },
    {
      "cell_type": "code",
      "source": [
        "B = z - X\n",
        "print(B)"
      ],
      "metadata": {
        "colab": {
          "base_uri": "https://localhost:8080/"
        },
        "id": "bHbmXrp3Cm0n",
        "outputId": "b0de63ce-0f21-4aa3-8841-f9d87853981c"
      },
      "execution_count": 64,
      "outputs": [
        {
          "output_type": "stream",
          "name": "stdout",
          "text": [
            "[[2 2 2]\n",
            " [2 2 2]\n",
            " [2 2 2]]\n"
          ]
        }
      ]
    },
    {
      "cell_type": "code",
      "source": [
        "C = X * skalar\n",
        "print(C)"
      ],
      "metadata": {
        "colab": {
          "base_uri": "https://localhost:8080/"
        },
        "id": "W0o0UICxCvjh",
        "outputId": "419648e3-211a-4a61-9597-c010f8f16062"
      },
      "execution_count": 65,
      "outputs": [
        {
          "output_type": "stream",
          "name": "stdout",
          "text": [
            "[[ 3  6  9]\n",
            " [12 15 18]\n",
            " [21 24 27]]\n"
          ]
        }
      ]
    },
    {
      "cell_type": "code",
      "source": [
        "J = np.matmul(X,Y)\n",
        "print(J)"
      ],
      "metadata": {
        "colab": {
          "base_uri": "https://localhost:8080/"
        },
        "id": "La3RFMi7CziH",
        "outputId": "e0b39196-b266-471e-fd2b-487854890b76"
      },
      "execution_count": 66,
      "outputs": [
        {
          "output_type": "stream",
          "name": "stdout",
          "text": [
            "[[12 12 12]\n",
            " [30 30 30]\n",
            " [48 48 48]]\n"
          ]
        }
      ]
    }
  ]
}