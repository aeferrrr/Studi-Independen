{
  "nbformat": 4,
  "nbformat_minor": 0,
  "metadata": {
    "colab": {
      "provenance": []
    },
    "kernelspec": {
      "name": "python3",
      "display_name": "Python 3"
    },
    "language_info": {
      "name": "python"
    }
  },
  "cells": [
    {
      "cell_type": "markdown",
      "source": [
        "# DOCSTRING"
      ],
      "metadata": {
        "id": "TcDrbE5iyDR4"
      }
    },
    {
      "cell_type": "code",
      "execution_count": 7,
      "metadata": {
        "colab": {
          "base_uri": "https://localhost:8080/"
        },
        "id": "v_85Vo4Iws4d",
        "outputId": "b7d53661-2a31-418c-e8e7-ad0ebe6c74e5"
      },
      "outputs": [
        {
          "output_type": "stream",
          "name": "stdout",
          "text": [
            "Nice to meet you\n"
          ]
        }
      ],
      "source": [
        "def greet():\n",
        "  print('Nice to meet you')\n",
        "greet()"
      ]
    },
    {
      "cell_type": "code",
      "source": [
        "def greet(name):\n",
        "  \"\"\"Memberikan personal greeting\"\"\"\n",
        "  return\"Nice to meet you\"+name\n",
        "\n",
        "print(greet(' Ali'))"
      ],
      "metadata": {
        "colab": {
          "base_uri": "https://localhost:8080/"
        },
        "id": "1klVxoVLxaD1",
        "outputId": "446a8ecd-1a2a-4564-8749-c1f8a2c7f557"
      },
      "execution_count": 12,
      "outputs": [
        {
          "output_type": "stream",
          "name": "stdout",
          "text": [
            "Nice to meet you Ali\n"
          ]
        }
      ]
    },
    {
      "cell_type": "code",
      "source": [
        "print(greet(name))"
      ],
      "metadata": {
        "id": "esdtiAWdyR-I"
      },
      "execution_count": null,
      "outputs": []
    },
    {
      "cell_type": "code",
      "source": [
        "def panggil():\n",
        "  print(greet(\" Anton\"))\n",
        "\n",
        "panggil()"
      ],
      "metadata": {
        "colab": {
          "base_uri": "https://localhost:8080/"
        },
        "id": "31tJg0HYy4ZF",
        "outputId": "c130f33a-ed1e-4917-e797-62bdfd281e56"
      },
      "execution_count": 14,
      "outputs": [
        {
          "output_type": "stream",
          "name": "stdout",
          "text": [
            "Nice to meet you Anton\n"
          ]
        }
      ]
    },
    {
      "cell_type": "markdown",
      "source": [
        "# LAMBDA"
      ],
      "metadata": {
        "id": "5wFeoivCybH6"
      }
    },
    {
      "cell_type": "code",
      "source": [
        "hitung_luas_persegi = lambda s: s*s\n",
        "\n",
        "hitung_luas_persegi(7)"
      ],
      "metadata": {
        "colab": {
          "base_uri": "https://localhost:8080/"
        },
        "id": "pe_SAB_jygWq",
        "outputId": "11be345b-622e-4371-d33a-0dd56122c417"
      },
      "execution_count": 13,
      "outputs": [
        {
          "output_type": "execute_result",
          "data": {
            "text/plain": [
              "49"
            ]
          },
          "metadata": {},
          "execution_count": 13
        }
      ]
    }
  ]
}